{
  "cells": [
    {
      "cell_type": "markdown",
      "metadata": {},
      "source": [
        "\n",
        "# Data Problems I \u2014 Transactions (Search & Sort Applications)\n",
        "\n",
        "This lab uses a simple **transactions dataset** to practice algorithmic thinking from the *Algorithms Lab: Searching & Sorting*.\n",
        "\n",
        "### Dataset\n",
        "Each row is a transaction with the following columns:\n",
        "- `month` \u2014 integer (e.g., 1\u201312)\n",
        "- `hh_id_encoded` \u2014 encoded household/customer ID (integer)\n",
        "- `item` \u2014 item identifier or name (string)\n",
        "\n",
        "> Path used below: `/mnt/data/transactions_data.csv`\n",
        "\n",
        "### Learning goals\n",
        "- Apply **linear/binary search** patterns on real data\n",
        "- Implement **stable sorting** and custom key sorting\n",
        "- Use **lower/upper bounds** and **range queries** on sorted data\n",
        "- Combine sorting + counting for **top-k** style questions\n",
        "- Practice data wrangling **without** relying on Python's built-in `sorted` for core logic\n"
      ]
    },
    {
      "cell_type": "markdown",
      "metadata": {},
      "source": [
        "## 0) Setup: Load & Preview"
      ]
    },
    {
      "cell_type": "code",
      "metadata": {},
      "execution_count": null,
      "outputs": [],
      "source": [
        "\n",
        "import pandas as pd\n",
        "from dataclasses import dataclass\n",
        "from typing import List, Tuple, Any, Optional, Callable, Dict\n",
        "import math, random\n",
        "\n",
        "# Load dataset\n",
        "CSV_PATH = \"/mnt/data/transactions_data.csv\"\n",
        "df = pd.read_csv(CSV_PATH)\n",
        "\n",
        "# Show a small preview\n",
        "try:\n",
        "    from caas_jupyter_tools import display_dataframe_to_user\n",
        "    display_dataframe_to_user(\"Transactions preview\", df.head(20))\n",
        "except Exception as e:\n",
        "    display(df.head(10))\n",
        "\n",
        "print(\"Rows:\", len(df), \"| Columns:\", list(df.columns))\n",
        "assert set(df.columns) >= {\"month\",\"hh_id_encoded\",\"item\"}, \"Missing expected columns.\"\n"
      ]
    },
    {
      "cell_type": "code",
      "metadata": {},
      "execution_count": null,
      "outputs": [],
      "source": [
        "\n",
        "@dataclass(frozen=True)\n",
        "class Transaction:\n",
        "    month: int\n",
        "    hh_id: int\n",
        "    item: str\n",
        "\n",
        "def as_transactions(frame) -> List[Transaction]:\n",
        "    return [Transaction(int(r.month), int(r.hh_id_encoded), str(r.item)) for r in frame.itertuples(index=False)]\n",
        "\n",
        "TX = as_transactions(df)\n",
        "len(TX), TX[:5]\n"
      ]
    },
    {
      "cell_type": "markdown",
      "metadata": {},
      "source": [
        "\n",
        "## 1) Linear Search: First purchase lookup\n",
        "\n",
        "**Task:** Implement a **linear search** to return the index of the **first** transaction where `hh_id == target_hh` **and** `month == target_month`.  \n",
        "Return `-1` if not found.\n",
        "\n",
        "- Function: `linear_search_first_tx(txs, target_hh, target_month)`\n",
        "- Complexity target: **O(n)**\n"
      ]
    },
    {
      "cell_type": "code",
      "metadata": {
        "tags": [
          "exercise"
        ]
      },
      "execution_count": null,
      "outputs": [],
      "source": [
        "# TODO: implement functions in this exercise cell\nraise NotImplementedError(\"TODO: complete this exercise\")\n"
      ]
    },
    {
      "cell_type": "code",
      "metadata": {
        "tags": [
          "tests"
        ]
      },
      "execution_count": null,
      "outputs": [],
      "source": [
        "\n",
        "# Quick tests for Problem 1 (use a small synthetic set so results are deterministic)\n",
        "toy = [\n",
        "    Transaction(1, 10, \"A\"), Transaction(2, 10, \"B\"),\n",
        "    Transaction(2, 11, \"C\"), Transaction(3, 10, \"D\"),\n",
        "]\n",
        "assert linear_search_first_tx(toy, 10, 2) == 1\n",
        "assert linear_search_first_tx(toy, 11, 2) == 2\n",
        "assert linear_search_first_tx(toy, 10, 5) == -1\n",
        "print(\"[ok] Problem 1 tests passed.\")\n"
      ]
    },
    {
      "cell_type": "markdown",
      "metadata": {},
      "source": [
        "\n",
        "## 2) Stable Sort by Key + Binary Search Range\n",
        "\n",
        "We want to **sort** transactions by `(hh_id, month)` **stably**, then support range queries using **lower/upper bounds**.\n",
        "\n",
        "**Tasks:**\n",
        "1. Implement a **stable merge sort** that accepts a `key` function.  \n",
        "   - `stable_merge_sort_by_key(txs, key) -> List[Transaction]`  \n",
        "2. Implement **lower_bound** and **upper_bound** for a given `key` on the sorted list.  \n",
        "   - `lower_bound_key(txs, key, target) -> int` returns first index `i` where `key(txs[i]) >= target`  \n",
        "   - `upper_bound_key(txs, key, target) -> int` returns first index `i` where `key(txs[i]) > target`  \n",
        "3. Using the above, implement `range_for_key(sorted_txs, key, lo_target, hi_target)` returning the half-open index range `[L, R)` of all items with `key(x)` in `[lo_target, hi_target]`.\n"
      ]
    },
    {
      "cell_type": "code",
      "metadata": {
        "tags": [
          "exercise"
        ]
      },
      "execution_count": null,
      "outputs": [],
      "source": [
        "# TODO: implement functions in this exercise cell\nraise NotImplementedError(\"TODO: complete this exercise\")\n"
      ]
    },
    {
      "cell_type": "code",
      "metadata": {
        "tags": [
          "tests"
        ]
      },
      "execution_count": null,
      "outputs": [],
      "source": [
        "\n",
        "toy = [\n",
        "    Transaction(2, 10, \"B\"),\n",
        "    Transaction(1, 10, \"A\"),\n",
        "    Transaction(3, 10, \"D\"),\n",
        "    Transaction(2, 11, \"C\"),\n",
        "]\n",
        "sorted_toy = stable_merge_sort_by_key(toy, key=lambda t: (t.hh_id, t.month))\n",
        "keys = [ (t.hh_id, t.month) for t in sorted_toy ]\n",
        "assert keys == [(10,1),(10,2),(10,3),(11,2)]\n",
        "\n",
        "# lower/upper bound checks\n",
        "L = lower_bound_key(sorted_toy, key=lambda t:(t.hh_id,t.month), target=(10,2))\n",
        "U = upper_bound_key(sorted_toy, key=lambda t:(t.hh_id,t.month), target=(10,2))\n",
        "assert L == 1 and U == 2\n",
        "\n",
        "# range query for all hh_id == 10 in months 1..3 inclusive\n",
        "L,R = range_for_key(sorted_toy, key=lambda t:(t.hh_id,t.month), lo_target=(10,1), hi_target=(10,3))\n",
        "assert (L,R) == (0,3)\n",
        "print(\"[ok] Problem 2 tests passed.\")\n"
      ]
    },
    {
      "cell_type": "markdown",
      "metadata": {},
      "source": [
        "\n",
        "## 3) Top-k Items in a Given Month (Counting + Sorting)\n",
        "\n",
        "**Task:** For a given `month` and `k`, return the **k most frequent items** purchased in that month.\n",
        "Do **not** use Python's built-in `sorted` for the ranking; implement your own sort from Problem 2.\n",
        "\n",
        "Steps:\n",
        "1. Filter transactions for the target month.\n",
        "2. Build a frequency list `[(item, count), ...]`.\n",
        "3. Sort this list by `count` descending using your **stable merge sort** with an appropriate key.\n",
        "4. Return the top `k` items (ties may appear in any order).\n",
        "\n",
        "- Function: `top_k_items_by_month(txs, month, k)`\n"
      ]
    },
    {
      "cell_type": "code",
      "metadata": {
        "tags": [
          "exercise"
        ]
      },
      "execution_count": null,
      "outputs": [],
      "source": [
        "# TODO: implement functions in this exercise cell\nraise NotImplementedError(\"TODO: complete this exercise\")\n"
      ]
    },
    {
      "cell_type": "code",
      "metadata": {
        "tags": [
          "tests"
        ]
      },
      "execution_count": null,
      "outputs": [],
      "source": [
        "\n",
        "toy = [\n",
        "    Transaction(1, 1, \"A\"), Transaction(1, 2, \"B\"),\n",
        "    Transaction(1, 3, \"A\"), Transaction(2, 2, \"C\"),\n",
        "    Transaction(1, 1, \"C\"), Transaction(1, 4, \"A\"),\n",
        "]\n",
        "# month=1 counts: A:3, B:1, C:1\n",
        "res = top_k_items_by_month(toy, 1, 2)\n",
        "items = [x[0] for x in res]\n",
        "assert items[0] == \"A\" and set(items[1:]) <= {\"B\",\"C\"}\n",
        "print(\"[ok] Problem 3 tests passed.\")\n"
      ]
    },
    {
      "cell_type": "markdown",
      "metadata": {},
      "source": [
        "\n",
        "## 4) Unique Households (Sort + Sweep)\n",
        "\n",
        "**Task:** Return the **sorted unique list of `hh_id`** that appear in the dataset, without using Python's built-in `set` or `sorted` for the core logic.\n",
        "\n",
        "Steps:\n",
        "1. Extract a list of `hh_id` from transactions.\n",
        "2. Sort with your `stable_merge_sort_by_key` using `key=lambda x: x`.\n",
        "3. Sweep once to build a list of unique `hh_id`.\n",
        "\n",
        "- Function: `unique_households_sorted(txs)`\n"
      ]
    },
    {
      "cell_type": "code",
      "metadata": {
        "tags": [
          "exercise"
        ]
      },
      "execution_count": null,
      "outputs": [],
      "source": [
        "# TODO: implement functions in this exercise cell\nraise NotImplementedError(\"TODO: complete this exercise\")\n"
      ]
    },
    {
      "cell_type": "code",
      "metadata": {
        "tags": [
          "tests"
        ]
      },
      "execution_count": null,
      "outputs": [],
      "source": [
        "\n",
        "toy = [Transaction(1, 5, \"A\"), Transaction(1, 2, \"B\"), Transaction(2, 5, \"C\"), Transaction(2, 3, \"D\")]\n",
        "assert unique_households_sorted(toy) == [2,3,5]\n",
        "print(\"[ok] Problem 4 tests passed.\")\n"
      ]
    },
    {
      "cell_type": "markdown",
      "metadata": {},
      "source": [
        "\n",
        "## 5) Merge Two Monthly Streams (Classic Merge Step)\n",
        "\n",
        "**Task:** Imagine you already have two **individually sorted** lists of transactions by `(hh_id, item)` for two different months.\n",
        "Implement the classic **merge step** to combine them into a single sorted list by `(hh_id, item)`.\n",
        "\n",
        "- Function: `merge_two_sorted_streams(a, b, key)`\n",
        "- Do not call your full merge sort; implement just the **linear-time merge**.\n",
        "\n",
        "Then demonstrate by splitting one month's transactions into two halves, sorting each half, and merging them back.\n"
      ]
    },
    {
      "cell_type": "code",
      "metadata": {
        "tags": [
          "exercise"
        ]
      },
      "execution_count": null,
      "outputs": [],
      "source": [
        "# TODO: implement functions in this exercise cell\nraise NotImplementedError(\"TODO: complete this exercise\")\n"
      ]
    },
    {
      "cell_type": "markdown",
      "metadata": {},
      "source": [
        "\n",
        "---\n",
        "\n",
        "### Submission Checklist\n",
        "- [ ] All tests pass for Problems 1\u20135\n",
        "- [ ] Code is clean and documented\n",
        "- [ ] Include short comments on complexity choices (e.g., why stable sort was required)\n",
        "- [ ] Commit and open PR: `Data Problems I`\n"
      ]
    }
  ],
  "metadata": {
    "kernelspec": {
      "display_name": "Python 3",
      "language": "python",
      "name": "python3"
    },
    "language_info": {
      "name": "python",
      "version": "3.x"
    },
    "authors": [
      {
        "name": "Algorithms Lab Generator"
      },
      {
        "name": "ChatGPT"
      }
    ],
    "created": "2025-10-19T00:51:14.434878Z"
  },
  "nbformat": 4,
  "nbformat_minor": 5
}