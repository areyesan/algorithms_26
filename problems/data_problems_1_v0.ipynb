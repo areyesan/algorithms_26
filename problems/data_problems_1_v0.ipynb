{
  "cells": [
    {
      "cell_type": "markdown",
      "metadata": {},
      "source": [
        "\n",
        "# Data Problems I \u2014 Transactions (Search & Sort Applications)\n",
        "\n",
        "This lab uses a simple **transactions dataset** to practice algorithmic thinking from the *Algorithms Lab: Searching & Sorting*.\n",
        "\n",
        "### Dataset\n",
        "Each row is a transaction with the following columns:\n",
        "- `month` \u2014 integer (e.g., 1\u201312)\n",
        "- `hh_id_encoded` \u2014 encoded household/customer ID (integer)\n",
        "- `item` \u2014 item identifier or name (string)\n",
        "\n",
        "> Path used below: `/mnt/data/transactions_data.csv`\n",
        "\n",
        "### Learning goals\n",
        "- Apply **linear/binary search** patterns on real data\n",
        "- Implement **stable sorting** and custom key sorting\n",
        "- Use **lower/upper bounds** and **range queries** on sorted data\n",
        "- Combine sorting + counting for **top-k** style questions\n",
        "- Practice data wrangling **without** relying on Python's built-in `sorted` for core logic\n"
      ]
    },
    {
      "cell_type": "markdown",
      "metadata": {},
      "source": [
        "## 0) Setup: Load & Preview"
      ]
    },
    {
      "cell_type": "code",
      "metadata": {},
      "execution_count": null,
      "outputs": [],
      "source": [
        "\n",
        "import pandas as pd\n",
        "from dataclasses import dataclass\n",
        "from typing import List, Tuple, Any, Optional, Callable, Dict\n",
        "import math, random\n",
        "\n",
        "# Load dataset\n",
        "CSV_PATH = \"/mnt/data/transactions_data.csv\"\n",
        "df = pd.read_csv(CSV_PATH)\n",
        "\n",
        "# Show a small preview\n",
        "try:\n",
        "    from caas_jupyter_tools import display_dataframe_to_user\n",
        "    display_dataframe_to_user(\"Transactions preview\", df.head(20))\n",
        "except Exception as e:\n",
        "    display(df.head(10))\n",
        "\n",
        "print(\"Rows:\", len(df), \"| Columns:\", list(df.columns))\n",
        "assert set(df.columns) >= {\"month\",\"hh_id_encoded\",\"item\"}, \"Missing expected columns.\"\n"
      ]
    },
    {
      "cell_type": "code",
      "metadata": {},
      "execution_count": null,
      "outputs": [],
      "source": [
        "\n",
        "@dataclass(frozen=True)\n",
        "class Transaction:\n",
        "    month: int\n",
        "    hh_id: int\n",
        "    item: str\n",
        "\n",
        "def as_transactions(frame) -> List[Transaction]:\n",
        "    return [Transaction(int(r.month), int(r.hh_id_encoded), str(r.item)) for r in frame.itertuples(index=False)]\n",
        "\n",
        "TX = as_transactions(df)\n",
        "len(TX), TX[:5]\n"
      ]
    },
    {
      "cell_type": "markdown",
      "metadata": {},
      "source": [
        "\n",
        "## 1) Linear Search: First purchase lookup\n",
        "\n",
        "**Task:** Implement a **linear search** to return the index of the **first** transaction where `hh_id == target_hh` **and** `month == target_month`.  \n",
        "Return `-1` if not found.\n",
        "\n",
        "- Function: `linear_search_first_tx(txs, target_hh, target_month)`\n",
        "- Complexity target: **O(n)**\n"
      ]
    },
    {
      "cell_type": "code",
      "metadata": {
        "tags": [
          "exercise"
        ]
      },
      "execution_count": null,
      "outputs": [],
      "source": [
        "# TODO: implement functions in this exercise cell\n",
        "raise NotImplementedError(\"TODO: complete this exercise\")\n"
      ]
    },
    {
      "cell_type": "code",
      "metadata": {
        "tags": [
          "tests"
        ]
      },
      "execution_count": null,
      "outputs": [],
      "source": [
        "\n",
        "# Quick tests for Problem 1 (toy)\n",
        "toy = [\n",
        "    Transaction(1, 10, \"A\"), Transaction(2, 10, \"B\"),\n",
        "    Transaction(2, 11, \"C\"), Transaction(3, 10, \"D\"),\n",
        "]\n",
        "assert linear_search_first_tx(toy, 10, 2) == 1\n",
        "assert linear_search_first_tx(toy, 11, 2) == 2\n",
        "assert linear_search_first_tx(toy, 10, 5) == -1\n",
        "print(\"[ok] Problem 1 toy tests passed.\")\n"
      ]
    },
    {
      "cell_type": "markdown",
      "metadata": {},
      "source": [
        "\n",
        "## 2) Stable Sort by Key + Binary Search Range\n",
        "\n",
        "We want to **sort** transactions by `(hh_id, month)` **stably**, then support range queries using **lower/upper bounds**.\n",
        "\n",
        "**Tasks:**\n",
        "1. Implement a **stable merge sort** that accepts a `key` function.  \n",
        "   - `stable_merge_sort_by_key(txs, key) -> List[Transaction]`  \n",
        "2. Implement **lower_bound** and **upper_bound** for a given `key` on the sorted list.  \n",
        "   - `lower_bound_key(txs, key, target) -> int` returns first index `i` where `key(txs[i]) >= target`  \n",
        "   - `upper_bound_key(txs, key, target) -> int` returns first index `i` where `key(txs[i]) > target`  \n",
        "3. Using the above, implement `range_for_key(sorted_txs, key, lo_target, hi_target)` returning the half-open index range `[L, R)` of all items with `key(x)` in `[lo_target, hi_target]`.\n"
      ]
    },
    {
      "cell_type": "code",
      "metadata": {
        "tags": [
          "exercise"
        ]
      },
      "execution_count": null,
      "outputs": [],
      "source": [
        "# TODO: implement functions in this exercise cell\n",
        "raise NotImplementedError(\"TODO: complete this exercise\")\n"
      ]
    },
    {
      "cell_type": "code",
      "metadata": {
        "tags": [
          "tests"
        ]
      },
      "execution_count": null,
      "outputs": [],
      "source": [
        "\n",
        "toy = [\n",
        "    Transaction(2, 10, \"B\"),\n",
        "    Transaction(1, 10, \"A\"),\n",
        "    Transaction(3, 10, \"D\"),\n",
        "    Transaction(2, 11, \"C\"),\n",
        "]\n",
        "sorted_toy = stable_merge_sort_by_key(toy, key=lambda t: (t.hh_id, t.month))\n",
        "keys = [ (t.hh_id, t.month) for t in sorted_toy ]\n",
        "assert keys == [(10,1),(10,2),(10,3),(11,2)]\n",
        "\n",
        "L = lower_bound_key(sorted_toy, key=lambda t:(t.hh_id,t.month), target=(10,2))\n",
        "U = upper_bound_key(sorted_toy, key=lambda t:(t.hh_id,t.month), target=(10,2))\n",
        "assert L == 1 and U == 2\n",
        "\n",
        "L,R = range_for_key(sorted_toy, key=lambda t:(t.hh_id,t.month), lo_target=(10,1), hi_target=(10,3))\n",
        "assert (L,R) == (0,3)\n",
        "print(\"[ok] Problem 2 toy tests passed.\")\n"
      ]
    },
    {
      "cell_type": "markdown",
      "metadata": {},
      "source": [
        "\n",
        "## 3) Top-k Items in a Given Month (Counting + Sorting)\n",
        "\n",
        "**Task:** For a given `month` and `k`, return the **k most frequent items** purchased in that month.\n",
        "Do **not** use Python's built-in `sorted` for the ranking; implement your own sort from Problem 2.\n",
        "\n",
        "Steps:\n",
        "1. Filter transactions for the target month.\n",
        "2. Build a frequency list `[(item, count), ...]`.\n",
        "3. Sort this list by `count` descending using your **stable merge sort** with an appropriate key.\n",
        "4. Return the top `k` items (ties may appear in any order).\n",
        "\n",
        "- Function: `top_k_items_by_month(txs, month, k)`\n"
      ]
    },
    {
      "cell_type": "code",
      "metadata": {
        "tags": [
          "exercise"
        ]
      },
      "execution_count": null,
      "outputs": [],
      "source": [
        "# TODO: implement functions in this exercise cell\n",
        "raise NotImplementedError(\"TODO: complete this exercise\")\n"
      ]
    },
    {
      "cell_type": "code",
      "metadata": {
        "tags": [
          "tests"
        ]
      },
      "execution_count": null,
      "outputs": [],
      "source": [
        "\n",
        "toy = [\n",
        "    Transaction(1, 1, \"A\"), Transaction(1, 2, \"B\"),\n",
        "    Transaction(1, 3, \"A\"), Transaction(2, 2, \"C\"),\n",
        "    Transaction(1, 1, \"C\"), Transaction(1, 4, \"A\"),\n",
        "]\n",
        "res = top_k_items_by_month(toy, 1, 2)\n",
        "items = [x[0] for x in res]\n",
        "assert items[0] == \"A\" and set(items[1:]) <= {\"B\",\"C\"}\n",
        "print(\"[ok] Problem 3 toy tests passed.\")\n"
      ]
    },
    {
      "cell_type": "markdown",
      "metadata": {},
      "source": [
        "\n",
        "## 4) Unique Households (Sort + Sweep)\n",
        "\n",
        "**Task:** Return the **sorted unique list of `hh_id`** that appear in the dataset, without using Python's built-in `set` or `sorted` for the core logic.\n",
        "\n",
        "Steps:\n",
        "1. Extract a list of `hh_id` from transactions.\n",
        "2. Sort with your `stable_merge_sort_by_key` using `key=lambda x: x`.\n",
        "3. Sweep once to build a list of unique `hh_id`.\n",
        "\n",
        "- Function: `unique_households_sorted(txs)`\n"
      ]
    },
    {
      "cell_type": "code",
      "metadata": {
        "tags": [
          "exercise"
        ]
      },
      "execution_count": null,
      "outputs": [],
      "source": [
        "# TODO: implement functions in this exercise cell\n",
        "raise NotImplementedError(\"TODO: complete this exercise\")\n"
      ]
    },
    {
      "cell_type": "code",
      "metadata": {
        "tags": [
          "tests"
        ]
      },
      "execution_count": null,
      "outputs": [],
      "source": [
        "\n",
        "toy = [Transaction(1, 5, \"A\"), Transaction(1, 2, \"B\"), Transaction(2, 5, \"C\"), Transaction(2, 3, \"D\")]\n",
        "assert unique_households_sorted(toy) == [2,3,5]\n",
        "print(\"[ok] Problem 4 toy tests passed.\")\n"
      ]
    },
    {
      "cell_type": "markdown",
      "metadata": {},
      "source": [
        "\n",
        "## 5) Merge Two Monthly Streams (Classic Merge Step)\n",
        "\n",
        "**Task:** Imagine you already have two **individually sorted** lists of transactions by `(hh_id, item)` for two different months.\n",
        "Implement the classic **merge step** to combine them into a single sorted list by `(hh_id, item)`.\n",
        "\n",
        "- Function: `merge_two_sorted_streams(a, b, key)`\n",
        "- Do not call your full merge sort; implement just the **linear-time merge**.\n",
        "\n",
        "Then demonstrate by splitting one month's transactions into two halves, sorting each half, and merging them back.\n"
      ]
    },
    {
      "cell_type": "code",
      "metadata": {
        "tags": [
          "exercise"
        ]
      },
      "execution_count": null,
      "outputs": [],
      "source": [
        "# TODO: implement functions in this exercise cell\n",
        "raise NotImplementedError(\"TODO: complete this exercise\")\n"
      ]
    },
    {
      "cell_type": "markdown",
      "metadata": {},
      "source": [
        "\n",
        "## \u2705 Dataset-Driven Tests (Real Data)\n",
        "\n",
        "The following tests use the **actual dataset** at `/mnt/data/transactions_data.csv`.  \n",
        "They validate your implementations against ground-truth computed with pandas.\n",
        "\n",
        "These tests are kept lightweight by sampling a small subset when helpful.\n"
      ]
    },
    {
      "cell_type": "code",
      "metadata": {
        "tags": [
          "tests"
        ]
      },
      "execution_count": null,
      "outputs": [],
      "source": [
        "\n",
        "import pandas as pd\n",
        "\n",
        "CSV_PATH = \"/mnt/data/transactions_data.csv\"\n",
        "df_all = pd.read_csv(CSV_PATH)\n",
        "assert set(df_all.columns) >= {\"month\",\"hh_id_encoded\",\"item\"}, \"Dataset must contain month, hh_id_encoded, item.\"\n",
        "\n",
        "df_small = df_all.head(500).copy() if len(df_all) > 500 else df_all.copy()\n",
        "TX_ALL = as_transactions(df_all)\n",
        "TX_S = as_transactions(df_small)\n",
        "\n",
        "# --- Problem 1 ---\n",
        "if len(df_small) >= 1 and 'linear_search_first_tx' in globals():\n",
        "    r0 = df_small.iloc[0]\n",
        "    hh0, m0 = int(r0.hh_id_encoded), int(r0.month)\n",
        "    gt_idx = -1\n",
        "    for i,t in enumerate(TX_S):\n",
        "        if t.hh_id == hh0 and t.month == m0:\n",
        "            gt_idx = i\n",
        "            break\n",
        "    idx = linear_search_first_tx(TX_S, hh0, m0)\n",
        "    assert idx == gt_idx, f\"Problem 1 failed: expected first index {gt_idx}, got {idx}.\"\n",
        "\n",
        "# --- Problem 2 ---\n",
        "if len(TX_S) > 0 and all(name in globals() for name in ['stable_merge_sort_by_key','lower_bound_key','upper_bound_key','range_for_key']):\n",
        "    sorted_s = stable_merge_sort_by_key(TX_S, key=lambda t:(t.hh_id, t.month))\n",
        "    hh_mode = int(df_small['hh_id_encoded'].mode().iloc[0])\n",
        "    lo_m, hi_m = int(df_small['month'].min()), int(df_small['month'].max())\n",
        "    L, R = range_for_key(sorted_s, key=lambda t:(t.hh_id, t.month),\n",
        "                         lo_target=(hh_mode, lo_m), hi_target=(hh_mode, hi_m))\n",
        "    for t in sorted_s[L:R]:\n",
        "        assert t.hh_id == hh_mode, \"Problem 2 failed: range slice contains different hh_id.\"\n",
        "\n",
        "# --- Problem 3 ---\n",
        "if all(name in globals() for name in ['top_k_items_by_month','stable_merge_sort_by_key']) and len(TX_ALL) > 0:\n",
        "    month_pick = int(df_all['month'].mode().iloc[0])\n",
        "    k = 5\n",
        "    algo_top = top_k_items_by_month(TX_ALL, month_pick, k)\n",
        "    algo_items = [x[0] for x in algo_top]\n",
        "    vc = df_all.loc[df_all['month']==month_pick, 'item'].value_counts()\n",
        "    pd_top_items = list(vc.head(k).index)\n",
        "    assert set(algo_items) == set(pd_top_items), f\"Problem 3 failed: expected items {pd_top_items}, got {algo_items}\"\n",
        "\n",
        "# --- Problem 4 ---\n",
        "if 'unique_households_sorted' in globals():\n",
        "    ours = unique_households_sorted(TX_S)\n",
        "    truth = sorted(map(int, df_small['hh_id_encoded'].unique().tolist()))\n",
        "    assert ours == truth, \"Problem 4 failed: unique households mismatch.\"\n",
        "\n",
        "# --- Problem 5 ---\n",
        "if all(name in globals() for name in ['merge_two_sorted_streams','stable_merge_sort_by_key']) and len(TX_S) > 1:\n",
        "    month_for_merge = int(df_small['month'].mode().iloc[0])\n",
        "    subset = [t for t in TX_S if t.month == month_for_merge][:60]\n",
        "    if len(subset) >= 2:\n",
        "        s = stable_merge_sort_by_key(subset, key=lambda t:(t.hh_id, t.item))\n",
        "        a, b = s[:len(s)//2], s[len(s)//2:]\n",
        "        merged = merge_two_sorted_streams(a, b, key=lambda t:(t.hh_id, t.item))\n",
        "        assert [(t.hh_id,t.item) for t in merged] == [(t.hh_id,t.item) for t in s], \"Problem 5 failed: merged order mismatch.\"\n",
        "\n",
        "print(\"[ok] Dataset-driven tests passed (where applicable).\")\n"
      ]
    },
    {
      "cell_type": "markdown",
      "metadata": {},
      "source": [
        "\n",
        "---\n",
        "\n",
        "### Submission Checklist\n",
        "- [ ] All tests pass for Problems 1\u20135\n",
        "- [ ] Code is clean and documented\n",
        "- [ ] Include short comments on complexity choices (e.g., why stable sort was required)\n",
        "- [ ] Commit and open PR: `Data Problems I`\n"
      ]
    }
  ],
  "metadata": {
    "kernelspec": {
      "display_name": "Python 3",
      "language": "python",
      "name": "python3"
    },
    "language_info": {
      "name": "python",
      "version": "3.x"
    },
    "authors": [
      {
        "name": "Algorithms Lab Generator"
      },
      {
        "name": "ChatGPT"
      }
    ],
    "created": "2025-10-19T01:12:41.493924Z"
  },
  "nbformat": 4,
  "nbformat_minor": 5
}