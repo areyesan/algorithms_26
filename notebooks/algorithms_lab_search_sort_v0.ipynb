{
  "cells": [
    {
      "cell_type": "markdown",
      "metadata": {
        "id": "PU3xA0dS9EXy"
      },
      "source": [
        "# Algorithms Lab: Searching & Sorting (College-Level)\n",
        "\n",
        "Welcome! This notebook is a guided, hands-on lab to help you **understand and implement fundamental algorithms**.\n",
        "\n",
        "You'll learn by doing:\n",
        "- Big-O reasoning via small experiments\n",
        "- Linear search vs. binary search\n",
        "- Classic sorts (selection, insertion, merge, quick)\n",
        "- Stability & in-place properties\n",
        "- Comparator-based sorting & key functions\n",
        "- Practice problems (LeetCode-style) with tests\n",
        "\n",
        "**Workflow suggestion** (for GitHub classroom / repo):\n",
        "1. Create a feature branch named `algorithms-lab`.\n",
        "2. Work through each section, filling in `TODO` blocks.\n",
        "3. Run the local tests (cells named **Run tests**). All tests should pass.\n",
        "4. Commit your changes and open a Pull Request.\n",
        "\n",
        "> Pro tip: Write small helper functions, keep code clean, add docstrings, and handle edge cases.\n"
      ],
      "id": "PU3xA0dS9EXy"
    },
    {
      "cell_type": "markdown",
      "metadata": {
        "id": "hW9Vjq1I9EX6"
      },
      "source": [
        "## 0) Setup & Utilities\n",
        "Run this once. It defines helpers and a small testing harness."
      ],
      "id": "hW9Vjq1I9EX6"
    },
    {
      "cell_type": "code",
      "metadata": {
        "id": "Hr2bZYh69EX7",
        "executionInfo": {
          "status": "ok",
          "timestamp": 1760768112210,
          "user_tz": 300,
          "elapsed": 46,
          "user": {
            "displayName": "Abel Reyes Angulo",
            "userId": "16245067417166143082"
          }
        }
      },
      "execution_count": 1,
      "outputs": [],
      "source": [
        "from __future__ import annotations\n",
        "import math, random, time\n",
        "from dataclasses import dataclass\n",
        "from typing import List, Callable, Any, Optional, Iterable, Tuple\n",
        "\n",
        "def assert_equal(actual, expected, msg: str = \"\"):\n",
        "    if actual != expected:\n",
        "        raise AssertionError(f\"Expected {expected!r} but got {actual!r}. {msg}\")\n",
        "\n",
        "def assert_true(expr: bool, msg: str = \"\"):\n",
        "    if not expr:\n",
        "        raise AssertionError(f\"Assertion failed. {msg}\")\n",
        "\n",
        "def time_function(fn: Callable, *args, repeats: int = 5, **kwargs) -> float:\n",
        "    \"\"\"Return median runtime (seconds) over several repeats.\"\"\"\n",
        "    times = []\n",
        "    for _ in range(repeats):\n",
        "        t0 = time.perf_counter()\n",
        "        fn(*args, **kwargs)\n",
        "        times.append(time.perf_counter() - t0)\n",
        "    times.sort()\n",
        "    return times[len(times)//2]\n"
      ],
      "id": "Hr2bZYh69EX7"
    },
    {
      "cell_type": "markdown",
      "metadata": {
        "id": "PYM1WnWW9EX-"
      },
      "source": [
        "## 1) Warm-up: Big-O by Experiment\n",
        "\n",
        "You're given two functions that do the same job but with different complexities.\n",
        "Implement them, then **measure** how their runtime scales with input size.\n",
        "\n",
        "**Task:**\n",
        "- Implement `sum_pairs_quadratic` in $O(n^2)$.\n",
        "- Implement `sum_pairs_linear` in $O(n)$ by aggregating counts.\n",
        "- Verify scaling with the `benchmark_sum_pairs` cell.\n"
      ],
      "id": "PYM1WnWW9EX-"
    },
    {
      "cell_type": "code",
      "metadata": {
        "tags": [
          "exercise"
        ],
        "id": "j9GuhG219EX-",
        "executionInfo": {
          "status": "ok",
          "timestamp": 1760768154607,
          "user_tz": 300,
          "elapsed": 54,
          "user": {
            "displayName": "Abel Reyes Angulo",
            "userId": "16245067417166143082"
          }
        }
      },
      "execution_count": 2,
      "outputs": [],
      "source": [
        "def sum_pairs_quadratic(nums: list[int]) -> int:\n",
        "    \"\"\"Return the number of (i, j) equal-value pairs with i<j. O(n^2).\"\"\"\n",
        "    # TODO: brute-force nested loops\n",
        "    raise NotImplementedError(\"TODO: implement sum_pairs_quadratic\")\n",
        "\n",
        "def sum_pairs_linear(nums: list[int]) -> int:\n",
        "    \"\"\"Return number of equal pairs in O(n) using a hashmap.\"\"\"\n",
        "    # TODO: linear-time using counts / hashmap\n",
        "    raise NotImplementedError(\"TODO: implement sum_pairs_linear\")\n"
      ],
      "id": "j9GuhG219EX-"
    },
    {
      "cell_type": "code",
      "metadata": {
        "tags": [
          "tests"
        ],
        "colab": {
          "base_uri": "https://localhost:8080/"
        },
        "id": "trugxf8l9EX_",
        "executionInfo": {
          "status": "ok",
          "timestamp": 1760768157292,
          "user_tz": 300,
          "elapsed": 10,
          "user": {
            "displayName": "Abel Reyes Angulo",
            "userId": "16245067417166143082"
          }
        },
        "outputId": "b1df0352-249f-48de-c7fe-fd2a29cf0f78"
      },
      "execution_count": 3,
      "outputs": [
        {
          "output_type": "stream",
          "name": "stdout",
          "text": [
            "[ok] Warm-up tests passed.\n"
          ]
        }
      ],
      "source": [
        "# Run tests (Warm-up)\n",
        "assert_equal(sum_pairs_quadratic([1,1,2]), 1)\n",
        "assert_equal(sum_pairs_quadratic([1,1,1]), 3)  # pairs: (0,1),(0,2),(1,2)\n",
        "assert_equal(sum_pairs_linear([1,1,2]), 1)\n",
        "assert_equal(sum_pairs_linear([1,1,1]), 3)\n",
        "print(\"[ok] Warm-up tests passed.\")\n"
      ],
      "id": "trugxf8l9EX_"
    },
    {
      "cell_type": "code",
      "metadata": {
        "tags": [
          "benchmark"
        ],
        "colab": {
          "base_uri": "https://localhost:8080/"
        },
        "id": "qZDU0BGb9EYA",
        "executionInfo": {
          "status": "ok",
          "timestamp": 1760768162906,
          "user_tz": 300,
          "elapsed": 1485,
          "user": {
            "displayName": "Abel Reyes Angulo",
            "userId": "16245067417166143082"
          }
        },
        "outputId": "923c7303-d2b6-4482-ac3c-ca556fb9fc4c"
      },
      "execution_count": 4,
      "outputs": [
        {
          "output_type": "stream",
          "name": "stdout",
          "text": [
            "n=  1000 | quadratic ~  0.0200s | linear ~  0.0001s\n",
            "n=  2000 | quadratic ~  0.0690s | linear ~  0.0002s\n",
            "n=  4000 | quadratic ~  0.2882s | linear ~  0.0003s\n",
            "n=  8000 | quadratic ~  1.1349s | linear ~  0.0006s\n"
          ]
        }
      ],
      "source": [
        "# Benchmark (feel free to tweak sizes)\n",
        "for n in [1_000, 2_000, 4_000, 8_000]:\n",
        "    data = [random.randint(0, 1000) for _ in range(n)]\n",
        "    t_quad = time_function(sum_pairs_quadratic, data, repeats=1)  # may get slow\n",
        "    t_lin = time_function(sum_pairs_linear, data)\n",
        "    print(f\"n={n:6d} | quadratic ~ {t_quad:7.4f}s | linear ~ {t_lin:7.4f}s\")\n"
      ],
      "id": "qZDU0BGb9EYA"
    },
    {
      "cell_type": "markdown",
      "metadata": {
        "id": "NiUML5l99EYB"
      },
      "source": [
        "## 2) Searching\n",
        "\n",
        "### 2.1 Linear Search\n",
        "Implement a simple linear scan. Return the index or `-1` if not found.\n",
        "\n",
        "### 2.2 Binary Search\n",
        "Assume the input list is **sorted ascending**. Implement both **iterative** and **recursive** versions. Return the index or `-1`.\n"
      ],
      "id": "NiUML5l99EYB"
    },
    {
      "cell_type": "code",
      "metadata": {
        "tags": [
          "exercise"
        ],
        "id": "COcrnkCu9EYC",
        "executionInfo": {
          "status": "ok",
          "timestamp": 1760768209848,
          "user_tz": 300,
          "elapsed": 17,
          "user": {
            "displayName": "Abel Reyes Angulo",
            "userId": "16245067417166143082"
          }
        }
      },
      "execution_count": 5,
      "outputs": [],
      "source": [
        "def linear_search(arr: list[int], target: int) -> int:\n",
        "    # TODO: implement linear scan\n",
        "    raise NotImplementedError(\"TODO: implement linear_search\")\n",
        "\n",
        "def binary_search_iter(arr: list[int], target: int) -> int:\n",
        "    # TODO: iterative binary search\n",
        "    raise NotImplementedError(\"TODO: implement binary_search_iter\")\n",
        "\n",
        "def binary_search_rec(arr: list[int], target: int, lo: int = 0, hi: int | None = None) -> int:\n",
        "    # TODO: recursive binary search\n",
        "    raise NotImplementedError(\"TODO: implement binary_search_rec\")\n"
      ],
      "id": "COcrnkCu9EYC"
    },
    {
      "cell_type": "code",
      "metadata": {
        "tags": [
          "tests"
        ],
        "colab": {
          "base_uri": "https://localhost:8080/"
        },
        "id": "-khwE8cy9EYD",
        "executionInfo": {
          "status": "ok",
          "timestamp": 1760768210796,
          "user_tz": 300,
          "elapsed": 31,
          "user": {
            "displayName": "Abel Reyes Angulo",
            "userId": "16245067417166143082"
          }
        },
        "outputId": "6745fcd3-011e-4446-d3d1-67dfb1ef3941"
      },
      "execution_count": 6,
      "outputs": [
        {
          "output_type": "stream",
          "name": "stdout",
          "text": [
            "[ok] Search tests passed.\n"
          ]
        }
      ],
      "source": [
        "# Run tests (Searching)\n",
        "arr = [1,3,5,7,9,11]\n",
        "assert_equal(linear_search(arr, 7), 3)\n",
        "assert_equal(linear_search(arr, 2), -1)\n",
        "assert_equal(binary_search_iter(arr, 1), 0)\n",
        "assert_equal(binary_search_iter(arr, 11), 5)\n",
        "assert_equal(binary_search_iter(arr, 4), -1)\n",
        "assert_equal(binary_search_rec(arr, 1), 0)\n",
        "assert_equal(binary_search_rec(arr, 11), 5)\n",
        "assert_equal(binary_search_rec(arr, 4), -1)\n",
        "print(\"[ok] Search tests passed.\")\n"
      ],
      "id": "-khwE8cy9EYD"
    },
    {
      "cell_type": "markdown",
      "metadata": {
        "id": "TC7MDNBz9EYE"
      },
      "source": [
        "## 3) Sorting\n",
        "\n",
        "You'll implement four classic algorithms. For each, preserve the function signature. Don't use Python's built-ins for the core logic.\n",
        "\n",
        "**Tasks**\n",
        "- `selection_sort` (in-place, not stable)\n",
        "- `insertion_sort` (in-place, stable)\n",
        "- `merge_sort` (out-of-place, stable)\n",
        "- `quick_sort` (in-place partition, average O(n log n))\n",
        "\n",
        "> **Stability reminder:** Stable sorts keep the original relative order of items that compare equal.\n"
      ],
      "id": "TC7MDNBz9EYE"
    },
    {
      "cell_type": "code",
      "metadata": {
        "tags": [
          "exercise"
        ],
        "id": "ZQkxKJE-9EYE",
        "executionInfo": {
          "status": "ok",
          "timestamp": 1760768213263,
          "user_tz": 300,
          "elapsed": 21,
          "user": {
            "displayName": "Abel Reyes Angulo",
            "userId": "16245067417166143082"
          }
        }
      },
      "execution_count": 7,
      "outputs": [],
      "source": [
        "def selection_sort(arr: list[int]) -> list[int]:\n",
        "    \"\"\"In-place or copy is fine. Not stable.\"\"\"\n",
        "    # TODO: implement selection sort\n",
        "    raise NotImplementedError(\"TODO: implement selection_sort\")\n",
        "\n",
        "def insertion_sort(arr: list[int]) -> list[int]:\n",
        "    \"\"\"Stable, in-place insertion sort.\"\"\"\n",
        "    # TODO: implement insertion sort\n",
        "    raise NotImplementedError(\"TODO: implement insertion_sort\")\n",
        "\n",
        "def merge_sort(arr: list[int]) -> list[int]:\n",
        "    \"\"\"Stable, out-of-place merge sort.\"\"\"\n",
        "    # TODO: implement merge sort\n",
        "    raise NotImplementedError(\"TODO: implement merge_sort\")\n",
        "\n",
        "def quick_sort(arr: list[int]) -> list[int]:\n",
        "    \"\"\"In-place partition, average O(n log n).\"\"\"\n",
        "    # TODO: implement quick sort (choose a pivot, partition, recurse)\n",
        "    raise NotImplementedError(\"TODO: implement quick_sort\")\n"
      ],
      "id": "ZQkxKJE-9EYE"
    },
    {
      "cell_type": "code",
      "metadata": {
        "tags": [
          "tests"
        ],
        "colab": {
          "base_uri": "https://localhost:8080/"
        },
        "id": "obZd9eLF9EYF",
        "executionInfo": {
          "status": "ok",
          "timestamp": 1760768213798,
          "user_tz": 300,
          "elapsed": 30,
          "user": {
            "displayName": "Abel Reyes Angulo",
            "userId": "16245067417166143082"
          }
        },
        "outputId": "07b53402-27cc-4f42-c2a9-0af50527934e"
      },
      "execution_count": 8,
      "outputs": [
        {
          "output_type": "stream",
          "name": "stdout",
          "text": [
            "[ok] Sorting tests passed.\n"
          ]
        }
      ],
      "source": [
        "# Run tests (Sorting)\n",
        "samples = [\n",
        "    [], [1], [2,1], [3,2,1], [5,1,4,2,8],\n",
        "]\n",
        "for s in samples:\n",
        "    exp = sorted(s)\n",
        "    assert_equal(selection_sort(s), exp, \"selection_sort failed\")\n",
        "    assert_equal(insertion_sort(s), exp, \"insertion_sort failed\")\n",
        "    assert_equal(merge_sort(s), exp, \"merge_sort failed\")\n",
        "    assert_equal(quick_sort(s), exp, \"quick_sort failed\")\n",
        "print(\"[ok] Sorting tests passed.\")\n"
      ],
      "id": "obZd9eLF9EYF"
    },
    {
      "cell_type": "markdown",
      "metadata": {
        "id": "5kOBiDSh9EYF"
      },
      "source": [
        "### 3.1 Sorting with Custom Keys (Comparators)\n",
        "Python's `sorted` accepts a `key` function. Implement a small stable sort that accepts a `key`.\n",
        "\n",
        "**Task:** Implement `stable_sort_by_key` using **insertion sort** (to guarantee stability) and the provided `key`.\n"
      ],
      "id": "5kOBiDSh9EYF"
    },
    {
      "cell_type": "code",
      "metadata": {
        "tags": [
          "exercise"
        ],
        "id": "_uOiJ-fS9EYF",
        "executionInfo": {
          "status": "ok",
          "timestamp": 1760768215341,
          "user_tz": 300,
          "elapsed": 21,
          "user": {
            "displayName": "Abel Reyes Angulo",
            "userId": "16245067417166143082"
          }
        }
      },
      "execution_count": 9,
      "outputs": [],
      "source": [
        "def stable_sort_by_key(arr: list[object], key):\n",
        "    \"\"\"Implement a stable sort using insertion sort and a key function.\"\"\"\n",
        "    # TODO: use insertion sort comparing key(x)\n",
        "    raise NotImplementedError(\"TODO: implement stable_sort_by_key\")\n"
      ],
      "id": "_uOiJ-fS9EYF"
    },
    {
      "cell_type": "code",
      "metadata": {
        "tags": [
          "tests"
        ],
        "colab": {
          "base_uri": "https://localhost:8080/"
        },
        "id": "v0lm0Sab9EYG",
        "executionInfo": {
          "status": "ok",
          "timestamp": 1760768216085,
          "user_tz": 300,
          "elapsed": 13,
          "user": {
            "displayName": "Abel Reyes Angulo",
            "userId": "16245067417166143082"
          }
        },
        "outputId": "70498474-ac64-489f-91a3-8b9fd7b199a5"
      },
      "execution_count": 10,
      "outputs": [
        {
          "output_type": "stream",
          "name": "stdout",
          "text": [
            "[ok] Stability test passed.\n"
          ]
        }
      ],
      "source": [
        "# Run tests (Custom key & stability)\n",
        "people = [(\"alice\", 3), (\"bob\", 3), (\"carl\", 2), (\"dana\", 3)]\n",
        "res = stable_sort_by_key(people, key=lambda x: x[1])\n",
        "assert_equal(res, [(\"carl\", 2), (\"alice\", 3), (\"bob\", 3), (\"dana\", 3)])\n",
        "# stability check: among ties (3), original order alice -> bob -> dana preserved\n",
        "print(\"[ok] Stability test passed.\")\n"
      ],
      "id": "v0lm0Sab9EYG"
    },
    {
      "cell_type": "markdown",
      "metadata": {
        "id": "qKcTJTdz9EYG"
      },
      "source": [
        "## 4) Practice Problems (LeetCode-style)\n",
        "Solve each with the **best possible time complexity**.\n",
        "\n",
        "1. **Two Sum (classic)** \u2013 Return indices of two numbers adding up to target. (Hash map)\n",
        "2. **Find First Bad Version** \u2013 Given `is_bad(version)` (monotonic), find first bad (Binary search).\n",
        "3. **Search Rotated Sorted Array** \u2013 Return index of target in rotated sorted array (Binary search variant).\n",
        "4. **Kth Largest Element** \u2013 Return the k-th largest using Quickselect (average O(n)).\n",
        "5. **Merge Intervals** \u2013 Given intervals, merge overlaps (Sort + linear sweep).\n"
      ],
      "id": "qKcTJTdz9EYG"
    },
    {
      "cell_type": "code",
      "metadata": {
        "tags": [
          "exercise"
        ],
        "id": "KL4oS1Lt9EYH",
        "executionInfo": {
          "status": "ok",
          "timestamp": 1760768217921,
          "user_tz": 300,
          "elapsed": 18,
          "user": {
            "displayName": "Abel Reyes Angulo",
            "userId": "16245067417166143082"
          }
        }
      },
      "execution_count": 11,
      "outputs": [],
      "source": [
        "def two_sum(nums: list[int], target: int) -> list[int]:\n",
        "    # TODO: return [i, j] with i<j using a hashmap\n",
        "    raise NotImplementedError(\"TODO: implement two_sum\")\n",
        "\n",
        "def first_bad_version(n: int, is_bad) -> int:\n",
        "    \"\"\"Return the smallest v in [1..n] with is_bad(v)=True using binary search.\"\"\"\n",
        "    # TODO: implement binary search on versions\n",
        "    raise NotImplementedError(\"TODO: implement first_bad_version\")\n",
        "\n",
        "def search_rotated(nums: list[int], target: int) -> int:\n",
        "    \"\"\"Binary search on rotated sorted array.\"\"\"\n",
        "    # TODO: implement modified binary search\n",
        "    raise NotImplementedError(\"TODO: implement search_rotated\")\n",
        "\n",
        "def kth_largest(nums: list[int], k: int) -> int:\n",
        "    \"\"\"Quickselect expected O(n).\"\"\"\n",
        "    # TODO: implement quickselect (k-th largest)\n",
        "    raise NotImplementedError(\"TODO: implement kth_largest\")\n",
        "\n",
        "def merge_intervals(intervals: list[list[int]]) -> list[list[int]]:\n",
        "    \"\"\"Sort by start, then merge overlaps.\"\"\"\n",
        "    # TODO: implement merge intervals\n",
        "    raise NotImplementedError(\"TODO: implement merge_intervals\")\n"
      ],
      "id": "KL4oS1Lt9EYH"
    },
    {
      "cell_type": "code",
      "metadata": {
        "tags": [
          "tests"
        ],
        "colab": {
          "base_uri": "https://localhost:8080/"
        },
        "id": "zBoBQD9R9EYI",
        "executionInfo": {
          "status": "ok",
          "timestamp": 1760768218941,
          "user_tz": 300,
          "elapsed": 32,
          "user": {
            "displayName": "Abel Reyes Angulo",
            "userId": "16245067417166143082"
          }
        },
        "outputId": "0f470e03-cdd8-4ed0-8662-cfd8823bad3a"
      },
      "execution_count": 12,
      "outputs": [
        {
          "output_type": "stream",
          "name": "stdout",
          "text": [
            "[ok] Practice problem tests passed.\n"
          ]
        }
      ],
      "source": [
        "# Run tests (Practice)\n",
        "assert_equal(two_sum([2,7,11,15], 9), [0,1])\n",
        "\n",
        "bad_after = 7\n",
        "def is_bad(v): return v >= bad_after\n",
        "assert_equal(first_bad_version(20, is_bad), 7)\n",
        "\n",
        "assert_equal(search_rotated([4,5,6,7,0,1,2], 0), 4)\n",
        "assert_equal(search_rotated([4,5,6,7,0,1,2], 3), -1)\n",
        "\n",
        "assert_equal(kth_largest([3,2,1,5,6,4], 2), 5)\n",
        "\n",
        "assert_equal(merge_intervals([[1,3],[2,6],[8,10],[15,18]]), [[1,6],[8,10],[15,18]])\n",
        "print(\"[ok] Practice problem tests passed.\")\n"
      ],
      "id": "zBoBQD9R9EYI"
    },
    {
      "cell_type": "markdown",
      "metadata": {
        "id": "sLV_sYv59EYI"
      },
      "source": [
        "## 5) Stability & In-Place Discussion\n",
        "Answer briefly in Markdown:\n",
        "1. Which of the four sorts you wrote are stable? Which are in-place?\n",
        "2. Give an example where stability affects correctness.\n",
        "3. Why does quicksort have bad worst-case behavior and how to mitigate it in practice?\n"
      ],
      "id": "sLV_sYv59EYI"
    },
    {
      "cell_type": "markdown",
      "metadata": {
        "id": "l2XBk2Zv9EYJ"
      },
      "source": [
        "_Your notes here..._\n"
      ],
      "id": "l2XBk2Zv9EYJ"
    },
    {
      "cell_type": "markdown",
      "metadata": {
        "id": "aMlaKt909EYJ"
      },
      "source": [
        "## 6) Optional Extensions (Bonus)\n",
        "- **Counting Sort / Radix Sort** for integers with bounded ranges.\n",
        "- **Binary Search Variants**: lower_bound / upper_bound positions.\n",
        "- **Order Statistics**: deterministic linear-time selection (median of medians).\n",
        "- **Stability Experiment**: craft inputs to visually demonstrate stability vs. instability.\n"
      ],
      "id": "aMlaKt909EYJ"
    },
    {
      "cell_type": "code",
      "metadata": {
        "tags": [
          "bonus"
        ],
        "colab": {
          "base_uri": "https://localhost:8080/"
        },
        "id": "0y2enpn29EYJ",
        "executionInfo": {
          "status": "ok",
          "timestamp": 1760768227339,
          "user_tz": 300,
          "elapsed": 8,
          "user": {
            "displayName": "Abel Reyes Angulo",
            "userId": "16245067417166143082"
          }
        },
        "outputId": "05b0851e-d04f-4599-d9f0-2fc0e01fab40"
      },
      "execution_count": 13,
      "outputs": [
        {
          "output_type": "stream",
          "name": "stdout",
          "text": [
            "lower_bound for 2: 1\n",
            "upper_bound for 2: 4\n"
          ]
        }
      ],
      "source": [
        "def lower_bound(arr: list[int], target: int) -> int:\n",
        "    \"\"\"First index i such that arr[i] >= target.\"\"\"\n",
        "    # TODO: implement binary search variant (lower_bound)\n",
        "    raise NotImplementedError(\"TODO: implement lower_bound\")\n",
        "\n",
        "def upper_bound(arr: list[int], target: int) -> int:\n",
        "    \"\"\"First index i such that arr[i] > target.\"\"\"\n",
        "    # TODO: implement binary search variant (upper_bound)\n",
        "    raise NotImplementedError(\"TODO: implement upper_bound\")\n"
      ],
      "id": "0y2enpn29EYJ"
    },
    {
      "cell_type": "markdown",
      "metadata": {
        "id": "PVrfI2Fn9EYJ"
      },
      "source": [
        "---\n",
        "### Submission Checklist\n",
        "- [ ] All `Run tests` cells pass\n",
        "- [ ] You answered the short discussion questions in Section 5\n",
        "- [ ] Commit & Push your changes\n",
        "- [ ] Open a PR titled `Algorithms Lab: Searching & Sorting`\n",
        "\n",
        "Good luck! \ud83d\ude80\n"
      ],
      "id": "PVrfI2Fn9EYJ"
    },
    {
      "cell_type": "code",
      "source": [],
      "metadata": {
        "id": "23i-M2d99v77"
      },
      "id": "23i-M2d99v77",
      "execution_count": null,
      "outputs": []
    }
  ],
  "metadata": {
    "kernelspec": {
      "display_name": "Python 3",
      "language": "python",
      "name": "python3"
    },
    "language_info": {
      "name": "python",
      "version": "3.x"
    },
    "authors": [
      {
        "name": "Algorithms Lab Generator"
      },
      {
        "name": "ChatGPT"
      }
    ],
    "created": "2025-10-18T06:07:14.980752Z",
    "colab": {
      "provenance": []
    },
    "student_version": {
      "generated_at": "2025-10-19T00:36:48.219586Z",
      "source": "algorithms_lab_search_sort.ipynb",
      "note": "Solutions stripped; tests and markdown retained.",
      "cells_modified": 6
    }
  },
  "nbformat": 4,
  "nbformat_minor": 5
}