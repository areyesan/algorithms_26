{
 "cells": [
  {
   "cell_type": "markdown",
   "id": "PU3xA0dS9EXy",
   "metadata": {
    "id": "PU3xA0dS9EXy"
   },
   "source": [
    "# Algorithms Lab: Searching & Sorting (College-Level)\n",
    "\n",
    "Welcome! This notebook is a guided, hands-on lab to help you **understand and implement fundamental algorithms**.\n",
    "\n",
    "You'll learn by doing:\n",
    "- Big-O reasoning via small experiments\n",
    "- Linear search vs. binary search\n",
    "- Classic sorts (selection, insertion, merge, quick)\n",
    "- Stability & in-place properties\n",
    "- Comparator-based sorting & key functions\n",
    "- Practice problems (LeetCode-style) with tests\n",
    "\n",
    "**Workflow suggestion** (for GitHub classroom / repo):\n",
    "1. Create a feature branch named `algorithms-lab`.\n",
    "2. Work through each section, filling in `TODO` blocks.\n",
    "3. Run the local tests (cells named **Run tests**). All tests should pass.\n",
    "4. Commit your changes and open a Pull Request.\n",
    "\n",
    "> Pro tip: Write small helper functions, keep code clean, add docstrings, and handle edge cases.\n"
   ]
  },
  {
   "cell_type": "markdown",
   "id": "hW9Vjq1I9EX6",
   "metadata": {
    "id": "hW9Vjq1I9EX6"
   },
   "source": [
    "## 0) Setup & Utilities\n",
    "Run this once. It defines helpers and a small testing harness."
   ]
  },
  {
   "cell_type": "code",
   "execution_count": 2,
   "id": "Hr2bZYh69EX7",
   "metadata": {
    "executionInfo": {
     "elapsed": 46,
     "status": "ok",
     "timestamp": 1760768112210,
     "user": {
      "displayName": "Abel Reyes Angulo",
      "userId": "16245067417166143082"
     },
     "user_tz": 300
    },
    "id": "Hr2bZYh69EX7"
   },
   "outputs": [],
   "source": [
    "from __future__ import annotations\n",
    "import math, random, time\n",
    "from dataclasses import dataclass\n",
    "from typing import List, Callable, Any, Optional, Iterable, Tuple\n",
    "\n",
    "def assert_equal(actual, expected, msg: str = \"\"):\n",
    "    if actual != expected:\n",
    "        raise AssertionError(f\"Expected {expected!r} but got {actual!r}. {msg}\")\n",
    "\n",
    "def assert_true(expr: bool, msg: str = \"\"):\n",
    "    if not expr:\n",
    "        raise AssertionError(f\"Assertion failed. {msg}\")\n",
    "\n",
    "def time_function(fn: Callable, *args, repeats: int = 5, **kwargs) -> float:\n",
    "    \"\"\"Return median runtime (seconds) over several repeats.\"\"\"\n",
    "    times = []\n",
    "    for _ in range(repeats):\n",
    "        t0 = time.perf_counter()\n",
    "        fn(*args, **kwargs)\n",
    "        times.append(time.perf_counter() - t0)\n",
    "    times.sort()\n",
    "    return times[len(times)//2]\n"
   ]
  },
  {
   "cell_type": "markdown",
   "id": "PYM1WnWW9EX-",
   "metadata": {
    "id": "PYM1WnWW9EX-"
   },
   "source": [
    "## 1) Warm-up: Big-O by Experiment\n",
    "\n",
    "You're given two functions that do the same job but with different complexities.\n",
    "Implement them, then **measure** how their runtime scales with input size.\n",
    "\n",
    "**Task:**\n",
    "- Implement `sum_pairs_quadratic` in $O(n^2)$.\n",
    "- Implement `sum_pairs_linear` in $O(n)$ by aggregating counts.\n",
    "- Verify scaling with the `benchmark_sum_pairs` cell.\n"
   ]
  },
  {
   "cell_type": "code",
   "execution_count": 3,
   "id": "j9GuhG219EX-",
   "metadata": {
    "executionInfo": {
     "elapsed": 54,
     "status": "ok",
     "timestamp": 1760768154607,
     "user": {
      "displayName": "Abel Reyes Angulo",
      "userId": "16245067417166143082"
     },
     "user_tz": 300
    },
    "id": "j9GuhG219EX-",
    "tags": [
     "exercise"
    ]
   },
   "outputs": [],
   "source": [
    "def sum_pairs_quadratic(nums: List[int]) -> int:\n",
    "    \"\"\"Return the number of (i, j) pairs with i < j and nums[i] == nums[j].\n",
    "    Expected complexity: O(n^2).\n",
    "    \"\"\"\n",
    "    # TODO: brute-force nested loops\n",
    "    count = 0\n",
    "    # --- your code here ---\n",
    "    for i in range(len(nums)):\n",
    "        for j in range(i+1, len(nums)):\n",
    "            if nums[i] == nums[j]:\n",
    "                count += 1\n",
    "    return count\n",
    "\n",
    "def sum_pairs_linear(nums: List[int]) -> int:\n",
    "    \"\"\"Return the number of equal pairs in linear time using a hashmap.\n",
    "    Expected complexity: O(n).\n",
    "    \"\"\"\n",
    "    # TODO: linear-time using counts\n",
    "    counts = {}\n",
    "    for x in nums:\n",
    "        counts[x] = counts.get(x, 0) + 1\n",
    "    total = 0\n",
    "    for c in counts.values():\n",
    "        # number of pairs from c identical items = c choose 2\n",
    "        total += c*(c-1)//2\n",
    "    return total\n"
   ]
  },
  {
   "cell_type": "code",
   "execution_count": 4,
   "id": "trugxf8l9EX_",
   "metadata": {
    "colab": {
     "base_uri": "https://localhost:8080/"
    },
    "executionInfo": {
     "elapsed": 10,
     "status": "ok",
     "timestamp": 1760768157292,
     "user": {
      "displayName": "Abel Reyes Angulo",
      "userId": "16245067417166143082"
     },
     "user_tz": 300
    },
    "id": "trugxf8l9EX_",
    "outputId": "b1df0352-249f-48de-c7fe-fd2a29cf0f78",
    "tags": [
     "tests"
    ]
   },
   "outputs": [
    {
     "name": "stdout",
     "output_type": "stream",
     "text": [
      "[ok] Warm-up tests passed.\n"
     ]
    }
   ],
   "source": [
    "# Run tests (Warm-up)\n",
    "assert_equal(sum_pairs_quadratic([1,1,2]), 1)\n",
    "assert_equal(sum_pairs_quadratic([1,1,1]), 3)  # pairs: (0,1),(0,2),(1,2)\n",
    "assert_equal(sum_pairs_linear([1,1,2]), 1)\n",
    "assert_equal(sum_pairs_linear([1,1,1]), 3)\n",
    "print(\"[ok] Warm-up tests passed.\")\n"
   ]
  },
  {
   "cell_type": "code",
   "execution_count": 5,
   "id": "qZDU0BGb9EYA",
   "metadata": {
    "colab": {
     "base_uri": "https://localhost:8080/"
    },
    "executionInfo": {
     "elapsed": 1485,
     "status": "ok",
     "timestamp": 1760768162906,
     "user": {
      "displayName": "Abel Reyes Angulo",
      "userId": "16245067417166143082"
     },
     "user_tz": 300
    },
    "id": "qZDU0BGb9EYA",
    "outputId": "923c7303-d2b6-4482-ac3c-ca556fb9fc4c",
    "tags": [
     "benchmark"
    ]
   },
   "outputs": [
    {
     "name": "stdout",
     "output_type": "stream",
     "text": [
      "n=  1000 | quadratic ~  0.0220s | linear ~  0.0001s\n",
      "n=  2000 | quadratic ~  0.0760s | linear ~  0.0002s\n",
      "n=  4000 | quadratic ~  0.3132s | linear ~  0.0003s\n",
      "n=  8000 | quadratic ~  1.2753s | linear ~  0.0005s\n"
     ]
    }
   ],
   "source": [
    "# Benchmark (feel free to tweak sizes)\n",
    "for n in [1_000, 2_000, 4_000, 8_000]:\n",
    "    data = [random.randint(0, 1000) for _ in range(n)]\n",
    "    t_quad = time_function(sum_pairs_quadratic, data, repeats=1)  # may get slow\n",
    "    t_lin = time_function(sum_pairs_linear, data)\n",
    "    print(f\"n={n:6d} | quadratic ~ {t_quad:7.4f}s | linear ~ {t_lin:7.4f}s\")\n"
   ]
  },
  {
   "cell_type": "markdown",
   "id": "NiUML5l99EYB",
   "metadata": {
    "id": "NiUML5l99EYB"
   },
   "source": [
    "## 2) Searching\n",
    "\n",
    "### 2.1 Linear Search\n",
    "Implement a simple linear scan. Return the index or `-1` if not found.\n",
    "\n",
    "### 2.2 Binary Search\n",
    "Assume the input list is **sorted ascending**. Implement both **iterative** and **recursive** versions. Return the index or `-1`.\n"
   ]
  },
  {
   "cell_type": "code",
   "execution_count": 6,
   "id": "COcrnkCu9EYC",
   "metadata": {
    "executionInfo": {
     "elapsed": 17,
     "status": "ok",
     "timestamp": 1760768209848,
     "user": {
      "displayName": "Abel Reyes Angulo",
      "userId": "16245067417166143082"
     },
     "user_tz": 300
    },
    "id": "COcrnkCu9EYC",
    "tags": [
     "exercise"
    ]
   },
   "outputs": [],
   "source": [
    "def linear_search(arr: List[int], target: int) -> int:\n",
    "    # TODO: implement linear scan\n",
    "    for i, x in enumerate(arr):\n",
    "        if x == target:\n",
    "            return i\n",
    "    return -1\n",
    "\n",
    "def binary_search_iter(arr: List[int], target: int) -> int:\n",
    "    # TODO: iterative binary search\n",
    "    lo, hi = 0, len(arr) - 1\n",
    "    while lo <= hi:\n",
    "        mid = (lo + hi) // 2\n",
    "        if arr[mid] == target:\n",
    "            return mid\n",
    "        elif arr[mid] < target:\n",
    "            lo = mid + 1\n",
    "        else:\n",
    "            hi = mid - 1\n",
    "    return -1\n",
    "\n",
    "def binary_search_rec(arr: List[int], target: int, lo: int = 0, hi: Optional[int] = None) -> int:\n",
    "    # TODO: recursive binary search\n",
    "    if hi is None:\n",
    "        hi = len(arr) - 1\n",
    "    if lo > hi:\n",
    "        return -1\n",
    "    mid = (lo + hi) // 2\n",
    "    if arr[mid] == target:\n",
    "        return mid\n",
    "    elif arr[mid] < target:\n",
    "        return binary_search_rec(arr, target, mid+1, hi)\n",
    "    else:\n",
    "        return binary_search_rec(arr, target, lo, mid-1)\n"
   ]
  },
  {
   "cell_type": "code",
   "execution_count": 7,
   "id": "-khwE8cy9EYD",
   "metadata": {
    "colab": {
     "base_uri": "https://localhost:8080/"
    },
    "executionInfo": {
     "elapsed": 31,
     "status": "ok",
     "timestamp": 1760768210796,
     "user": {
      "displayName": "Abel Reyes Angulo",
      "userId": "16245067417166143082"
     },
     "user_tz": 300
    },
    "id": "-khwE8cy9EYD",
    "outputId": "6745fcd3-011e-4446-d3d1-67dfb1ef3941",
    "tags": [
     "tests"
    ]
   },
   "outputs": [
    {
     "name": "stdout",
     "output_type": "stream",
     "text": [
      "[ok] Search tests passed.\n"
     ]
    }
   ],
   "source": [
    "# Run tests (Searching)\n",
    "arr = [1,3,5,7,9,11]\n",
    "assert_equal(linear_search(arr, 7), 3)\n",
    "assert_equal(linear_search(arr, 2), -1)\n",
    "assert_equal(binary_search_iter(arr, 1), 0)\n",
    "assert_equal(binary_search_iter(arr, 11), 5)\n",
    "assert_equal(binary_search_iter(arr, 4), -1)\n",
    "assert_equal(binary_search_rec(arr, 1), 0)\n",
    "assert_equal(binary_search_rec(arr, 11), 5)\n",
    "assert_equal(binary_search_rec(arr, 4), -1)\n",
    "print(\"[ok] Search tests passed.\")\n"
   ]
  },
  {
   "cell_type": "markdown",
   "id": "TC7MDNBz9EYE",
   "metadata": {
    "id": "TC7MDNBz9EYE"
   },
   "source": [
    "## 3) Sorting\n",
    "\n",
    "You'll implement four classic algorithms. For each, preserve the function signature. Don't use Python's built-ins for the core logic.\n",
    "\n",
    "**Tasks**\n",
    "- `selection_sort` (in-place, not stable)\n",
    "- `insertion_sort` (in-place, stable)\n",
    "- `merge_sort` (out-of-place, stable)\n",
    "- `quick_sort` (in-place partition, average O(n log n))\n",
    "\n",
    "> **Stability reminder:** Stable sorts keep the original relative order of items that compare equal.\n"
   ]
  },
  {
   "cell_type": "code",
   "execution_count": 7,
   "id": "ZQkxKJE-9EYE",
   "metadata": {
    "executionInfo": {
     "elapsed": 21,
     "status": "ok",
     "timestamp": 1760768213263,
     "user": {
      "displayName": "Abel Reyes Angulo",
      "userId": "16245067417166143082"
     },
     "user_tz": 300
    },
    "id": "ZQkxKJE-9EYE",
    "tags": [
     "exercise"
    ]
   },
   "outputs": [],
   "source": [
    "def selection_sort(arr: List[int]) -> List[int]:\n",
    "    a = arr[:]  # copy; okay to do in-place as well\n",
    "    n = len(a)\n",
    "    for i in range(n):\n",
    "        min_idx = i\n",
    "        for j in range(i+1, n):\n",
    "            if a[j] < a[min_idx]:\n",
    "                min_idx = j\n",
    "        a[i], a[min_idx] = a[min_idx], a[i]\n",
    "    return a\n",
    "\n",
    "def insertion_sort(arr: List[int]) -> List[int]:\n",
    "    a = arr[:]  # working copy\n",
    "    for i in range(1, len(a)):\n",
    "        key = a[i]\n",
    "        j = i - 1\n",
    "        while j >= 0 and a[j] > key:\n",
    "            a[j+1] = a[j]\n",
    "            j -= 1\n",
    "        a[j+1] = key\n",
    "    return a\n",
    "\n",
    "def merge_sort(arr: List[int]) -> List[int]:\n",
    "    # Top-down recursive merge sort\n",
    "    if len(arr) <= 1:\n",
    "        return arr[:]\n",
    "    mid = len(arr)//2\n",
    "    left = merge_sort(arr[:mid])\n",
    "    right = merge_sort(arr[mid:])\n",
    "    # merge phase (stable)\n",
    "    i=j=0\n",
    "    out = []\n",
    "    while i < len(left) and j < len(right):\n",
    "        if left[i] <= right[j]:  # <= makes it stable\n",
    "            out.append(left[i]); i+=1\n",
    "        else:\n",
    "            out.append(right[j]); j+=1\n",
    "    out.extend(left[i:])\n",
    "    out.extend(right[j:])\n",
    "    return out\n",
    "\n",
    "def quick_sort(arr: List[int]) -> List[int]:\n",
    "    a = arr[:]\n",
    "    def partition(lo, hi):\n",
    "        pivot = a[hi]\n",
    "        i = lo\n",
    "        for j in range(lo, hi):\n",
    "            if a[j] <= pivot:\n",
    "                a[i], a[j] = a[j], a[i]\n",
    "                i += 1\n",
    "        a[i], a[hi] = a[hi], a[i]\n",
    "        return i\n",
    "    def _qs(lo, hi):\n",
    "        if lo < hi:\n",
    "            p = partition(lo, hi)\n",
    "            _qs(lo, p-1)\n",
    "            _qs(p+1, hi)\n",
    "    _qs(0, len(a)-1)\n",
    "    return a\n"
   ]
  },
  {
   "cell_type": "code",
   "execution_count": 8,
   "id": "obZd9eLF9EYF",
   "metadata": {
    "colab": {
     "base_uri": "https://localhost:8080/"
    },
    "executionInfo": {
     "elapsed": 30,
     "status": "ok",
     "timestamp": 1760768213798,
     "user": {
      "displayName": "Abel Reyes Angulo",
      "userId": "16245067417166143082"
     },
     "user_tz": 300
    },
    "id": "obZd9eLF9EYF",
    "outputId": "07b53402-27cc-4f42-c2a9-0af50527934e",
    "tags": [
     "tests"
    ]
   },
   "outputs": [
    {
     "name": "stdout",
     "output_type": "stream",
     "text": [
      "[ok] Sorting tests passed.\n"
     ]
    }
   ],
   "source": [
    "# Run tests (Sorting)\n",
    "samples = [\n",
    "    [], [1], [2,1], [3,2,1], [5,1,4,2,8],\n",
    "]\n",
    "for s in samples:\n",
    "    exp = sorted(s)\n",
    "    assert_equal(selection_sort(s), exp, \"selection_sort failed\")\n",
    "    assert_equal(insertion_sort(s), exp, \"insertion_sort failed\")\n",
    "    assert_equal(merge_sort(s), exp, \"merge_sort failed\")\n",
    "    assert_equal(quick_sort(s), exp, \"quick_sort failed\")\n",
    "print(\"[ok] Sorting tests passed.\")\n"
   ]
  },
  {
   "cell_type": "markdown",
   "id": "5kOBiDSh9EYF",
   "metadata": {
    "id": "5kOBiDSh9EYF"
   },
   "source": [
    "### 3.1 Sorting with Custom Keys (Comparators)\n",
    "Python's `sorted` accepts a `key` function. Implement a small stable sort that accepts a `key`.\n",
    "\n",
    "**Task:** Implement `stable_sort_by_key` using **insertion sort** (to guarantee stability) and the provided `key`.\n"
   ]
  },
  {
   "cell_type": "code",
   "execution_count": 9,
   "id": "_uOiJ-fS9EYF",
   "metadata": {
    "executionInfo": {
     "elapsed": 21,
     "status": "ok",
     "timestamp": 1760768215341,
     "user": {
      "displayName": "Abel Reyes Angulo",
      "userId": "16245067417166143082"
     },
     "user_tz": 300
    },
    "id": "_uOiJ-fS9EYF",
    "tags": [
     "exercise"
    ]
   },
   "outputs": [],
   "source": [
    "def stable_sort_by_key(arr: List[Any], key: Callable[[Any], Any]) -> List[Any]:\n",
    "    a = arr[:]  # copy\n",
    "    # TODO: insertion sort using key(x) comparisons to keep it stable\n",
    "    for i in range(1, len(a)):\n",
    "        item = a[i]\n",
    "        k = key(item)\n",
    "        j = i - 1\n",
    "        while j >= 0 and key(a[j]) > k:\n",
    "            a[j+1] = a[j]\n",
    "            j -= 1\n",
    "        a[j+1] = item\n",
    "    return a\n"
   ]
  },
  {
   "cell_type": "code",
   "execution_count": 10,
   "id": "v0lm0Sab9EYG",
   "metadata": {
    "colab": {
     "base_uri": "https://localhost:8080/"
    },
    "executionInfo": {
     "elapsed": 13,
     "status": "ok",
     "timestamp": 1760768216085,
     "user": {
      "displayName": "Abel Reyes Angulo",
      "userId": "16245067417166143082"
     },
     "user_tz": 300
    },
    "id": "v0lm0Sab9EYG",
    "outputId": "70498474-ac64-489f-91a3-8b9fd7b199a5",
    "tags": [
     "tests"
    ]
   },
   "outputs": [
    {
     "name": "stdout",
     "output_type": "stream",
     "text": [
      "[ok] Stability test passed.\n"
     ]
    }
   ],
   "source": [
    "# Run tests (Custom key & stability)\n",
    "people = [(\"alice\", 3), (\"bob\", 3), (\"carl\", 2), (\"dana\", 3)]\n",
    "res = stable_sort_by_key(people, key=lambda x: x[1])\n",
    "assert_equal(res, [(\"carl\", 2), (\"alice\", 3), (\"bob\", 3), (\"dana\", 3)])\n",
    "# stability check: among ties (3), original order alice -> bob -> dana preserved\n",
    "print(\"[ok] Stability test passed.\")\n"
   ]
  },
  {
   "cell_type": "markdown",
   "id": "qKcTJTdz9EYG",
   "metadata": {
    "id": "qKcTJTdz9EYG"
   },
   "source": [
    "## 4) Practice Problems (LeetCode-style)\n",
    "Solve each with the **best possible time complexity**.\n",
    "\n",
    "1. **Two Sum (classic)** – Return indices of two numbers adding up to target. (Hash map)\n",
    "2. **Find First Bad Version** – Given `is_bad(version)` (monotonic), find first bad (Binary search).\n",
    "3. **Search Rotated Sorted Array** – Return index of target in rotated sorted array (Binary search variant).\n",
    "4. **Kth Largest Element** – Return the k-th largest using Quickselect (average O(n)).\n",
    "5. **Merge Intervals** – Given intervals, merge overlaps (Sort + linear sweep).\n"
   ]
  },
  {
   "cell_type": "code",
   "execution_count": 11,
   "id": "KL4oS1Lt9EYH",
   "metadata": {
    "executionInfo": {
     "elapsed": 18,
     "status": "ok",
     "timestamp": 1760768217921,
     "user": {
      "displayName": "Abel Reyes Angulo",
      "userId": "16245067417166143082"
     },
     "user_tz": 300
    },
    "id": "KL4oS1Lt9EYH",
    "tags": [
     "exercise"
    ]
   },
   "outputs": [],
   "source": [
    "# 4.1 Two Sum\n",
    "def two_sum(nums: List[int], target: int) -> List[int]:\n",
    "    # TODO: return [i, j] with i<j\n",
    "    seen = {}\n",
    "    for i, x in enumerate(nums):\n",
    "        need = target - x\n",
    "        if need in seen:\n",
    "            return [seen[need], i]\n",
    "        seen[x] = i\n",
    "    return []\n",
    "\n",
    "# 4.2 First Bad Version (binary search). We'll simulate is_bad.\n",
    "def first_bad_version(n: int, is_bad: Callable[[int], bool]) -> int:\n",
    "    # TODO: return smallest v in [1..n] with is_bad(v)=True (assume exists)\n",
    "    lo, hi = 1, n\n",
    "    while lo < hi:\n",
    "        mid = (lo + hi) // 2\n",
    "        if is_bad(mid):\n",
    "            hi = mid\n",
    "        else:\n",
    "            lo = mid + 1\n",
    "    return lo\n",
    "\n",
    "# 4.3 Search Rotated Sorted Array\n",
    "def search_rotated(nums: List[int], target: int) -> int:\n",
    "    # TODO: return index or -1\n",
    "    lo, hi = 0, len(nums)-1\n",
    "    while lo <= hi:\n",
    "        mid = (lo + hi) // 2\n",
    "        if nums[mid] == target:\n",
    "            return mid\n",
    "        # left half sorted\n",
    "        if nums[lo] <= nums[mid]:\n",
    "            if nums[lo] <= target < nums[mid]:\n",
    "                hi = mid - 1\n",
    "            else:\n",
    "                lo = mid + 1\n",
    "        else:  # right half sorted\n",
    "            if nums[mid] < target <= nums[hi]:\n",
    "                lo = mid + 1\n",
    "            else:\n",
    "                hi = mid - 1\n",
    "    return -1\n",
    "\n",
    "# 4.4 Kth Largest via Quickselect\n",
    "def kth_largest(nums: List[int], k: int) -> int:\n",
    "    # TODO: quickselect in O(n) expected\n",
    "    arr = nums[:]\n",
    "    k_small = len(arr) - k  # kth largest == index for kth smallest\n",
    "    lo, hi = 0, len(arr)-1\n",
    "    def partition(lo, hi):\n",
    "        pivot = arr[hi]\n",
    "        i = lo\n",
    "        for j in range(lo, hi):\n",
    "            if arr[j] <= pivot:\n",
    "                arr[i], arr[j] = arr[j], arr[i]\n",
    "                i += 1\n",
    "        arr[i], arr[hi] = arr[hi], arr[i]\n",
    "        return i\n",
    "    while True:\n",
    "        p = partition(lo, hi)\n",
    "        if p == k_small:\n",
    "            return arr[p]\n",
    "        elif p < k_small:\n",
    "            lo = p + 1\n",
    "        else:\n",
    "            hi = p - 1\n",
    "\n",
    "# 4.5 Merge Intervals\n",
    "def merge_intervals(intervals: List[List[int]]) -> List[List[int]]:\n",
    "    # TODO: merge overlapping intervals\n",
    "    if not intervals:\n",
    "        return []\n",
    "    intervals = sorted(intervals)\n",
    "    out = [intervals[0]]\n",
    "    for s, e in intervals[1:]:\n",
    "        last = out[-1]\n",
    "        if s <= last[1]:\n",
    "            last[1] = max(last[1], e)\n",
    "        else:\n",
    "            out.append([s, e])\n",
    "    return out\n"
   ]
  },
  {
   "cell_type": "code",
   "execution_count": 12,
   "id": "zBoBQD9R9EYI",
   "metadata": {
    "colab": {
     "base_uri": "https://localhost:8080/"
    },
    "executionInfo": {
     "elapsed": 32,
     "status": "ok",
     "timestamp": 1760768218941,
     "user": {
      "displayName": "Abel Reyes Angulo",
      "userId": "16245067417166143082"
     },
     "user_tz": 300
    },
    "id": "zBoBQD9R9EYI",
    "outputId": "0f470e03-cdd8-4ed0-8662-cfd8823bad3a",
    "tags": [
     "tests"
    ]
   },
   "outputs": [
    {
     "name": "stdout",
     "output_type": "stream",
     "text": [
      "[ok] Practice problem tests passed.\n"
     ]
    }
   ],
   "source": [
    "# Run tests (Practice)\n",
    "assert_equal(two_sum([2,7,11,15], 9), [0,1])\n",
    "\n",
    "bad_after = 7\n",
    "def is_bad(v): return v >= bad_after\n",
    "assert_equal(first_bad_version(20, is_bad), 7)\n",
    "\n",
    "assert_equal(search_rotated([4,5,6,7,0,1,2], 0), 4)\n",
    "assert_equal(search_rotated([4,5,6,7,0,1,2], 3), -1)\n",
    "\n",
    "assert_equal(kth_largest([3,2,1,5,6,4], 2), 5)\n",
    "\n",
    "assert_equal(merge_intervals([[1,3],[2,6],[8,10],[15,18]]), [[1,6],[8,10],[15,18]])\n",
    "print(\"[ok] Practice problem tests passed.\")\n"
   ]
  },
  {
   "cell_type": "markdown",
   "id": "sLV_sYv59EYI",
   "metadata": {
    "id": "sLV_sYv59EYI"
   },
   "source": [
    "## 5) Stability & In-Place Discussion\n",
    "Answer briefly in Markdown:\n",
    "1. Which of the four sorts you wrote are stable? Which are in-place?\n",
    "2. Give an example where stability affects correctness.\n",
    "3. Why does quicksort have bad worst-case behavior and how to mitigate it in practice?\n"
   ]
  },
  {
   "cell_type": "markdown",
   "id": "l2XBk2Zv9EYJ",
   "metadata": {
    "id": "l2XBk2Zv9EYJ"
   },
   "source": [
    "_Your notes here..._\n"
   ]
  },
  {
   "cell_type": "markdown",
   "id": "aMlaKt909EYJ",
   "metadata": {
    "id": "aMlaKt909EYJ"
   },
   "source": [
    "## 6) Optional Extensions (Bonus)\n",
    "- **Counting Sort / Radix Sort** for integers with bounded ranges.\n",
    "- **Binary Search Variants**: lower_bound / upper_bound positions.\n",
    "- **Order Statistics**: deterministic linear-time selection (median of medians).\n",
    "- **Stability Experiment**: craft inputs to visually demonstrate stability vs. instability.\n"
   ]
  },
  {
   "cell_type": "code",
   "execution_count": 13,
   "id": "0y2enpn29EYJ",
   "metadata": {
    "colab": {
     "base_uri": "https://localhost:8080/"
    },
    "executionInfo": {
     "elapsed": 8,
     "status": "ok",
     "timestamp": 1760768227339,
     "user": {
      "displayName": "Abel Reyes Angulo",
      "userId": "16245067417166143082"
     },
     "user_tz": 300
    },
    "id": "0y2enpn29EYJ",
    "outputId": "05b0851e-d04f-4599-d9f0-2fc0e01fab40",
    "tags": [
     "bonus"
    ]
   },
   "outputs": [
    {
     "name": "stdout",
     "output_type": "stream",
     "text": [
      "lower_bound for 2: 1\n",
      "upper_bound for 2: 4\n"
     ]
    }
   ],
   "source": [
    "def lower_bound(arr: List[int], target: int) -> int:\n",
    "    \"\"\"First index i such that arr[i] >= target. If not found, return len(arr).\"\"\"\n",
    "    lo, hi = 0, len(arr)\n",
    "    while lo < hi:\n",
    "        mid = (lo + hi) // 2\n",
    "        if arr[mid] < target:\n",
    "            lo = mid + 1\n",
    "        else:\n",
    "            hi = mid\n",
    "    return lo\n",
    "\n",
    "def upper_bound(arr: List[int], target: int) -> int:\n",
    "    \"\"\"First index i such that arr[i] > target. If not found, return len(arr).\"\"\"\n",
    "    lo, hi = 0, len(arr)\n",
    "    while lo < hi:\n",
    "        mid = (lo + hi) // 2\n",
    "        if arr[mid] <= target:\n",
    "            lo = mid + 1\n",
    "        else:\n",
    "            hi = mid\n",
    "    return lo\n",
    "\n",
    "# quick demo\n",
    "a = [1,2,2,2,3,5]\n",
    "print('lower_bound for 2:', lower_bound(a, 2))  # 1\n",
    "print('upper_bound for 2:', upper_bound(a, 2))  # 4\n"
   ]
  },
  {
   "cell_type": "markdown",
   "id": "PVrfI2Fn9EYJ",
   "metadata": {
    "id": "PVrfI2Fn9EYJ"
   },
   "source": [
    "---\n",
    "### Submission Checklist\n",
    "- [ ] All `Run tests` cells pass\n",
    "- [ ] You answered the short discussion questions in Section 5\n",
    "- [ ] Commit & Push your changes\n",
    "- [ ] Open a PR titled `Algorithms Lab: Searching & Sorting`\n",
    "\n",
    "Good luck! 🚀\n"
   ]
  },
  {
   "cell_type": "code",
   "execution_count": null,
   "id": "23i-M2d99v77",
   "metadata": {
    "id": "23i-M2d99v77"
   },
   "outputs": [],
   "source": []
  }
 ],
 "metadata": {
  "authors": [
   {
    "name": "Algorithms Lab Generator"
   },
   {
    "name": "ChatGPT"
   }
  ],
  "colab": {
   "provenance": []
  },
  "created": "2025-10-18T06:07:14.980752Z",
  "kernelspec": {
   "display_name": "Python 3",
   "language": "python",
   "name": "python3"
  },
  "language_info": {
   "codemirror_mode": {
    "name": "ipython",
    "version": 3
   },
   "file_extension": ".py",
   "mimetype": "text/x-python",
   "name": "python",
   "nbconvert_exporter": "python",
   "pygments_lexer": "ipython3",
   "version": "3.12.4"
  }
 },
 "nbformat": 4,
 "nbformat_minor": 5
}
